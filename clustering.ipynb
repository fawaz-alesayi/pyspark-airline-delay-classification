{
 "cells": [
  {
   "cell_type": "code",
   "execution_count": 1,
   "metadata": {},
   "outputs": [
    {
     "name": "stdout",
     "output_type": "stream",
     "text": [
      "Requirement already satisfied: shapely in /home/gitpod/.pyenv/versions/3.8.13/lib/python3.8/site-packages (1.8.2)\n"
     ]
    }
   ],
   "source": [
    "# Install shapely to deal with geospatial data\n",
    "!pip install shapely"
   ]
  },
  {
   "cell_type": "code",
   "execution_count": 6,
   "metadata": {},
   "outputs": [
    {
     "name": "stdout",
     "output_type": "stream",
     "text": [
      "2021-01-01_performance_mobile_tiles.parquet.zip: Skipping, found more recently modified local copy (use --force to force download)\n",
      "Archive:  2021-01-01_performance_mobile_tiles.parquet.zip\n",
      "  inflating: 2021-01-01_performance_mobile_tiles.parquet  \n"
     ]
    }
   ],
   "source": [
    "!kaggle datasets download -d dhruvildave/ookla-internet-speed-dataset -f \"2021-q1/2021-01-01_performance_mobile_tiles.parquet\"\n",
    "!unzip 2021-01-01_performance_mobile_tiles.parquet.zip\n",
    "!rm 2021-01-01_performance_mobile_tiles.parquet.zip"
   ]
  },
  {
   "cell_type": "code",
   "execution_count": 3,
   "metadata": {},
   "outputs": [
    {
     "name": "stderr",
     "output_type": "stream",
     "text": [
      "Picked up JAVA_TOOL_OPTIONS:  -Xmx3435m\n",
      "Picked up JAVA_TOOL_OPTIONS:  -Xmx3435m\n",
      "22/05/13 15:20:42 WARN Utils: Your hostname, fawazalesay-pysparkairl-sdsd8mdblyh resolves to a loopback address: 127.0.0.1; using 10.0.5.2 instead (on interface ceth0)\n",
      "22/05/13 15:20:42 WARN Utils: Set SPARK_LOCAL_IP if you need to bind to another address\n",
      "WARNING: An illegal reflective access operation has occurred\n",
      "WARNING: Illegal reflective access by org.apache.spark.unsafe.Platform (file:/home/gitpod/.pyenv/versions/3.8.13/lib/python3.8/site-packages/pyspark/jars/spark-unsafe_2.12-3.2.1.jar) to constructor java.nio.DirectByteBuffer(long,int)\n",
      "WARNING: Please consider reporting this to the maintainers of org.apache.spark.unsafe.Platform\n",
      "WARNING: Use --illegal-access=warn to enable warnings of further illegal reflective access operations\n",
      "WARNING: All illegal access operations will be denied in a future release\n",
      "Using Spark's default log4j profile: org/apache/spark/log4j-defaults.properties\n",
      "Setting default log level to \"WARN\".\n",
      "To adjust logging level use sc.setLogLevel(newLevel). For SparkR, use setLogLevel(newLevel).\n",
      "22/05/13 15:20:42 WARN NativeCodeLoader: Unable to load native-hadoop library for your platform... using builtin-java classes where applicable\n",
      "22/05/13 15:20:43 WARN Utils: Service 'SparkUI' could not bind on port 4040. Attempting port 4041.\n"
     ]
    }
   ],
   "source": [
    "# initlize pyspark\n",
    "from pyspark.sql import SparkSession\n",
    "spark = SparkSession.builder.appName(\"airline-delay-analysis\").getOrCreate()"
   ]
  },
  {
   "cell_type": "code",
   "execution_count": 4,
   "metadata": {},
   "outputs": [],
   "source": [
    "# Needed to make Jupyter work with Gitpod\n",
    "import plotly.io as pio\n",
    "pio.renderers.default = 'iframe_connected'"
   ]
  },
  {
   "cell_type": "code",
   "execution_count": 13,
   "metadata": {},
   "outputs": [
    {
     "name": "stdout",
     "output_type": "stream",
     "text": [
      "root\n",
      " |-- quadkey: string (nullable = true)\n",
      " |-- tile: string (nullable = true)\n",
      " |-- avg_d_kbps: long (nullable = true)\n",
      " |-- avg_u_kbps: long (nullable = true)\n",
      " |-- avg_lat_ms: long (nullable = true)\n",
      " |-- tests: long (nullable = true)\n",
      " |-- devices: long (nullable = true)\n",
      "\n",
      "+----------------+--------------------+----------+----------+----------+-----+-------+\n",
      "|         quadkey|                tile|avg_d_kbps|avg_u_kbps|avg_lat_ms|tests|devices|\n",
      "+----------------+--------------------+----------+----------+----------+-----+-------+\n",
      "|0320102333020210|POLYGON((-76.2780...|     60057|     18502|        33|    7|      4|\n",
      "|1202323320003230|POLYGON((15.52368...|     32306|      1619|        22|    2|      1|\n",
      "|0231320130101122|POLYGON((-98.8989...|     40500|      8097|        39|   60|      5|\n",
      "|1321231220223030|POLYGON((120.9924...|     68423|     15722|        20|  143|     52|\n",
      "|1220101000310231|POLYGON((14.34265...|     31295|      7302|        37|   47|     24|\n",
      "+----------------+--------------------+----------+----------+----------+-----+-------+\n",
      "only showing top 5 rows\n",
      "\n"
     ]
    }
   ],
   "source": [
    "# Read the data into a dataframe and print the schema\n",
    "df = spark.read.parquet(\"2021-01-01_performance_mobile_tiles.parquet\")\n",
    "df.printSchema()\n",
    "\n",
    "# Print the first 5 rows of the dataframe\n",
    "df.show(5)"
   ]
  },
  {
   "cell_type": "code",
   "execution_count": 32,
   "metadata": {},
   "outputs": [
    {
     "name": "stderr",
     "output_type": "stream",
     "text": [
      "                                                                                \r"
     ]
    }
   ],
   "source": [
    "from shapely import wkt\n",
    "\n",
    "longitudes = df.select(\"tile\").rdd.map(lambda row: wkt.loads(row.tile).centroid.x).collect()\n",
    "latitudes = df.select(\"tile\").rdd.map(lambda row: wkt.loads(row.tile).centroid.y).collect()"
   ]
  },
  {
   "cell_type": "code",
   "execution_count": 34,
   "metadata": {},
   "outputs": [
    {
     "name": "stdout",
     "output_type": "stream",
     "text": [
      "+------------------+\n",
      "|             value|\n",
      "+------------------+\n",
      "|-76.27532958984374|\n",
      "| 15.52642822265625|\n",
      "|-98.89617919921875|\n",
      "|120.99517822265652|\n",
      "| 14.34539794921875|\n",
      "+------------------+\n",
      "only showing top 5 rows\n",
      "\n",
      "None\n"
     ]
    },
    {
     "name": "stderr",
     "output_type": "stream",
     "text": [
      "22/05/13 15:56:04 WARN TaskSetManager: Stage 19 contains a task of very large size (7491 KiB). The maximum recommended task size is 1000 KiB.\n"
     ]
    }
   ],
   "source": [
    "# Convert longitudes and latitudes to a dataframe\n",
    "longitudes_df = spark.createDataFrame(longitudes, \"double\")\n",
    "latitudes_df = spark.createDataFrame(latitudes, \"double\")"
   ]
  },
  {
   "cell_type": "code",
   "execution_count": 38,
   "metadata": {},
   "outputs": [
    {
     "name": "stdout",
     "output_type": "stream",
     "text": [
      "['value']\n"
     ]
    }
   ],
   "source": [
    "print(longitudes_df.columns)"
   ]
  },
  {
   "cell_type": "code",
   "execution_count": 36,
   "metadata": {},
   "outputs": [
    {
     "ename": "AnalysisException",
     "evalue": "Resolved attribute(s) value#118 missing from quadkey#50,tile#51,avg_d_kbps#52L,avg_u_kbps#53L,avg_lat_ms#54L,tests#55L,devices#56L in operator !Project [quadkey#50, tile#51, avg_d_kbps#52L, avg_u_kbps#53L, avg_lat_ms#54L, tests#55L, devices#56L, value#118 AS longitude#128].;\n!Project [quadkey#50, tile#51, avg_d_kbps#52L, avg_u_kbps#53L, avg_lat_ms#54L, tests#55L, devices#56L, value#118 AS longitude#128]\n+- Relation [quadkey#50,tile#51,avg_d_kbps#52L,avg_u_kbps#53L,avg_lat_ms#54L,tests#55L,devices#56L] parquet\n",
     "output_type": "error",
     "traceback": [
      "\u001b[0;31m---------------------------------------------------------------------------\u001b[0m",
      "\u001b[0;31mAnalysisException\u001b[0m                         Traceback (most recent call last)",
      "\u001b[1;32m/workspace/pyspark-airline-delay-classification/clustering.ipynb Cell 8'\u001b[0m in \u001b[0;36m<cell line: 2>\u001b[0;34m()\u001b[0m\n\u001b[1;32m      <a href='vscode-notebook-cell://ssh-remote%2Bfawazalesay-pysparkairl-sdsd8mdblyh/workspace/pyspark-airline-delay-classification/clustering.ipynb#ch0000006vscode-remote?line=0'>1</a>\u001b[0m \u001b[39m# Adds two columns: longitude and latitude\u001b[39;00m\n\u001b[0;32m----> <a href='vscode-notebook-cell://ssh-remote%2Bfawazalesay-pysparkairl-sdsd8mdblyh/workspace/pyspark-airline-delay-classification/clustering.ipynb#ch0000006vscode-remote?line=1'>2</a>\u001b[0m df \u001b[39m=\u001b[39m df\u001b[39m.\u001b[39;49mwithColumn(\u001b[39m\"\u001b[39;49m\u001b[39mlongitude\u001b[39;49m\u001b[39m\"\u001b[39;49m, longitudes_df\u001b[39m.\u001b[39;49mvalue)\n\u001b[1;32m      <a href='vscode-notebook-cell://ssh-remote%2Bfawazalesay-pysparkairl-sdsd8mdblyh/workspace/pyspark-airline-delay-classification/clustering.ipynb#ch0000006vscode-remote?line=2'>3</a>\u001b[0m df \u001b[39m=\u001b[39m df\u001b[39m.\u001b[39mwithColumn(\u001b[39m\"\u001b[39m\u001b[39mlatitude\u001b[39m\u001b[39m\"\u001b[39m, latitudes_df\u001b[39m.\u001b[39mvalue)\n\u001b[1;32m      <a href='vscode-notebook-cell://ssh-remote%2Bfawazalesay-pysparkairl-sdsd8mdblyh/workspace/pyspark-airline-delay-classification/clustering.ipynb#ch0000006vscode-remote?line=4'>5</a>\u001b[0m df\u001b[39m.\u001b[39mshow(\u001b[39m5\u001b[39m)\n",
      "File \u001b[0;32m~/.pyenv/versions/3.8.13/lib/python3.8/site-packages/pyspark/sql/dataframe.py:2478\u001b[0m, in \u001b[0;36mDataFrame.withColumn\u001b[0;34m(self, colName, col)\u001b[0m\n\u001b[1;32m   <a href='file:///home/gitpod/.pyenv/versions/3.8.13/lib/python3.8/site-packages/pyspark/sql/dataframe.py?line=2475'>2476</a>\u001b[0m \u001b[39mif\u001b[39;00m \u001b[39mnot\u001b[39;00m \u001b[39misinstance\u001b[39m(col, Column):\n\u001b[1;32m   <a href='file:///home/gitpod/.pyenv/versions/3.8.13/lib/python3.8/site-packages/pyspark/sql/dataframe.py?line=2476'>2477</a>\u001b[0m     \u001b[39mraise\u001b[39;00m \u001b[39mTypeError\u001b[39;00m(\u001b[39m\"\u001b[39m\u001b[39mcol should be Column\u001b[39m\u001b[39m\"\u001b[39m)\n\u001b[0;32m-> <a href='file:///home/gitpod/.pyenv/versions/3.8.13/lib/python3.8/site-packages/pyspark/sql/dataframe.py?line=2477'>2478</a>\u001b[0m \u001b[39mreturn\u001b[39;00m DataFrame(\u001b[39mself\u001b[39;49m\u001b[39m.\u001b[39;49m_jdf\u001b[39m.\u001b[39;49mwithColumn(colName, col\u001b[39m.\u001b[39;49m_jc), \u001b[39mself\u001b[39m\u001b[39m.\u001b[39msql_ctx)\n",
      "File \u001b[0;32m~/.pyenv/versions/3.8.13/lib/python3.8/site-packages/py4j/java_gateway.py:1321\u001b[0m, in \u001b[0;36mJavaMember.__call__\u001b[0;34m(self, *args)\u001b[0m\n\u001b[1;32m   <a href='file:///home/gitpod/.pyenv/versions/3.8.13/lib/python3.8/site-packages/py4j/java_gateway.py?line=1314'>1315</a>\u001b[0m command \u001b[39m=\u001b[39m proto\u001b[39m.\u001b[39mCALL_COMMAND_NAME \u001b[39m+\u001b[39m\\\n\u001b[1;32m   <a href='file:///home/gitpod/.pyenv/versions/3.8.13/lib/python3.8/site-packages/py4j/java_gateway.py?line=1315'>1316</a>\u001b[0m     \u001b[39mself\u001b[39m\u001b[39m.\u001b[39mcommand_header \u001b[39m+\u001b[39m\\\n\u001b[1;32m   <a href='file:///home/gitpod/.pyenv/versions/3.8.13/lib/python3.8/site-packages/py4j/java_gateway.py?line=1316'>1317</a>\u001b[0m     args_command \u001b[39m+\u001b[39m\\\n\u001b[1;32m   <a href='file:///home/gitpod/.pyenv/versions/3.8.13/lib/python3.8/site-packages/py4j/java_gateway.py?line=1317'>1318</a>\u001b[0m     proto\u001b[39m.\u001b[39mEND_COMMAND_PART\n\u001b[1;32m   <a href='file:///home/gitpod/.pyenv/versions/3.8.13/lib/python3.8/site-packages/py4j/java_gateway.py?line=1319'>1320</a>\u001b[0m answer \u001b[39m=\u001b[39m \u001b[39mself\u001b[39m\u001b[39m.\u001b[39mgateway_client\u001b[39m.\u001b[39msend_command(command)\n\u001b[0;32m-> <a href='file:///home/gitpod/.pyenv/versions/3.8.13/lib/python3.8/site-packages/py4j/java_gateway.py?line=1320'>1321</a>\u001b[0m return_value \u001b[39m=\u001b[39m get_return_value(\n\u001b[1;32m   <a href='file:///home/gitpod/.pyenv/versions/3.8.13/lib/python3.8/site-packages/py4j/java_gateway.py?line=1321'>1322</a>\u001b[0m     answer, \u001b[39mself\u001b[39;49m\u001b[39m.\u001b[39;49mgateway_client, \u001b[39mself\u001b[39;49m\u001b[39m.\u001b[39;49mtarget_id, \u001b[39mself\u001b[39;49m\u001b[39m.\u001b[39;49mname)\n\u001b[1;32m   <a href='file:///home/gitpod/.pyenv/versions/3.8.13/lib/python3.8/site-packages/py4j/java_gateway.py?line=1323'>1324</a>\u001b[0m \u001b[39mfor\u001b[39;00m temp_arg \u001b[39min\u001b[39;00m temp_args:\n\u001b[1;32m   <a href='file:///home/gitpod/.pyenv/versions/3.8.13/lib/python3.8/site-packages/py4j/java_gateway.py?line=1324'>1325</a>\u001b[0m     temp_arg\u001b[39m.\u001b[39m_detach()\n",
      "File \u001b[0;32m~/.pyenv/versions/3.8.13/lib/python3.8/site-packages/pyspark/sql/utils.py:117\u001b[0m, in \u001b[0;36mcapture_sql_exception.<locals>.deco\u001b[0;34m(*a, **kw)\u001b[0m\n\u001b[1;32m    <a href='file:///home/gitpod/.pyenv/versions/3.8.13/lib/python3.8/site-packages/pyspark/sql/utils.py?line=112'>113</a>\u001b[0m converted \u001b[39m=\u001b[39m convert_exception(e\u001b[39m.\u001b[39mjava_exception)\n\u001b[1;32m    <a href='file:///home/gitpod/.pyenv/versions/3.8.13/lib/python3.8/site-packages/pyspark/sql/utils.py?line=113'>114</a>\u001b[0m \u001b[39mif\u001b[39;00m \u001b[39mnot\u001b[39;00m \u001b[39misinstance\u001b[39m(converted, UnknownException):\n\u001b[1;32m    <a href='file:///home/gitpod/.pyenv/versions/3.8.13/lib/python3.8/site-packages/pyspark/sql/utils.py?line=114'>115</a>\u001b[0m     \u001b[39m# Hide where the exception came from that shows a non-Pythonic\u001b[39;00m\n\u001b[1;32m    <a href='file:///home/gitpod/.pyenv/versions/3.8.13/lib/python3.8/site-packages/pyspark/sql/utils.py?line=115'>116</a>\u001b[0m     \u001b[39m# JVM exception message.\u001b[39;00m\n\u001b[0;32m--> <a href='file:///home/gitpod/.pyenv/versions/3.8.13/lib/python3.8/site-packages/pyspark/sql/utils.py?line=116'>117</a>\u001b[0m     \u001b[39mraise\u001b[39;00m converted \u001b[39mfrom\u001b[39;00m \u001b[39mNone\u001b[39m\n\u001b[1;32m    <a href='file:///home/gitpod/.pyenv/versions/3.8.13/lib/python3.8/site-packages/pyspark/sql/utils.py?line=117'>118</a>\u001b[0m \u001b[39melse\u001b[39;00m:\n\u001b[1;32m    <a href='file:///home/gitpod/.pyenv/versions/3.8.13/lib/python3.8/site-packages/pyspark/sql/utils.py?line=118'>119</a>\u001b[0m     \u001b[39mraise\u001b[39;00m\n",
      "\u001b[0;31mAnalysisException\u001b[0m: Resolved attribute(s) value#118 missing from quadkey#50,tile#51,avg_d_kbps#52L,avg_u_kbps#53L,avg_lat_ms#54L,tests#55L,devices#56L in operator !Project [quadkey#50, tile#51, avg_d_kbps#52L, avg_u_kbps#53L, avg_lat_ms#54L, tests#55L, devices#56L, value#118 AS longitude#128].;\n!Project [quadkey#50, tile#51, avg_d_kbps#52L, avg_u_kbps#53L, avg_lat_ms#54L, tests#55L, devices#56L, value#118 AS longitude#128]\n+- Relation [quadkey#50,tile#51,avg_d_kbps#52L,avg_u_kbps#53L,avg_lat_ms#54L,tests#55L,devices#56L] parquet\n"
     ]
    }
   ],
   "source": [
    "# Adds two columns: longitude and latitude\n",
    "df = df.withColumn(\"longitude\", longitudes_df.value)\n",
    "df = df.withColumn(\"latitude\", latitudes_df.value)\n",
    "\n",
    "df.show(5)"
   ]
  }
 ],
 "metadata": {
  "interpreter": {
   "hash": "110cc1dee26208153f2972f08a2ad52b6a56238dc66d48e87fb757ef2996db56"
  },
  "kernelspec": {
   "display_name": "Python 3.8.13 64-bit ('3.8.13')",
   "language": "python",
   "name": "python3"
  },
  "language_info": {
   "codemirror_mode": {
    "name": "ipython",
    "version": 3
   },
   "file_extension": ".py",
   "mimetype": "text/x-python",
   "name": "python",
   "nbconvert_exporter": "python",
   "pygments_lexer": "ipython3",
   "version": "3.8.13"
  },
  "orig_nbformat": 4
 },
 "nbformat": 4,
 "nbformat_minor": 2
}
